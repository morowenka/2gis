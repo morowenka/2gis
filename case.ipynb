{
 "cells": [
  {
   "cell_type": "code",
   "execution_count": 1,
   "id": "1d6a663e-dc28-4908-a04a-229c06073dba",
   "metadata": {},
   "outputs": [],
   "source": [
    "# мне не нравится маркдаун, поэтому я буду комментарии писать в блоках с кодом через `#`"
   ]
  },
  {
   "cell_type": "code",
   "execution_count": 2,
   "id": "9a1e1d99-fb06-4d27-a874-3e7a4150f15e",
   "metadata": {},
   "outputs": [],
   "source": [
    "import pandas as pd\n",
    "import numpy as np\n",
    "from matplotlib import pyplot as plt"
   ]
  },
  {
   "cell_type": "code",
   "execution_count": 3,
   "id": "0ea14082-46c2-4874-bc63-f1857ac955b0",
   "metadata": {},
   "outputs": [
    {
     "data": {
      "text/html": [
       "<div>\n",
       "<style scoped>\n",
       "    .dataframe tbody tr th:only-of-type {\n",
       "        vertical-align: middle;\n",
       "    }\n",
       "\n",
       "    .dataframe tbody tr th {\n",
       "        vertical-align: top;\n",
       "    }\n",
       "\n",
       "    .dataframe thead th {\n",
       "        text-align: right;\n",
       "    }\n",
       "</style>\n",
       "<table border=\"1\" class=\"dataframe\">\n",
       "  <thead>\n",
       "    <tr style=\"text-align: right;\">\n",
       "      <th></th>\n",
       "      <th>query</th>\n",
       "      <th>object</th>\n",
       "      <th>is_positive</th>\n",
       "    </tr>\n",
       "  </thead>\n",
       "  <tbody>\n",
       "    <tr>\n",
       "      <th>0</th>\n",
       "      <td>1590973</td>\n",
       "      <td>168299</td>\n",
       "      <td>1</td>\n",
       "    </tr>\n",
       "    <tr>\n",
       "      <th>1</th>\n",
       "      <td>1590973</td>\n",
       "      <td>718560</td>\n",
       "      <td>0</td>\n",
       "    </tr>\n",
       "    <tr>\n",
       "      <th>2</th>\n",
       "      <td>1234953</td>\n",
       "      <td>325828</td>\n",
       "      <td>1</td>\n",
       "    </tr>\n",
       "    <tr>\n",
       "      <th>3</th>\n",
       "      <td>1234953</td>\n",
       "      <td>135968</td>\n",
       "      <td>0</td>\n",
       "    </tr>\n",
       "    <tr>\n",
       "      <th>4</th>\n",
       "      <td>3326557</td>\n",
       "      <td>334526</td>\n",
       "      <td>1</td>\n",
       "    </tr>\n",
       "  </tbody>\n",
       "</table>\n",
       "</div>"
      ],
      "text/plain": [
       "     query  object  is_positive\n",
       "0  1590973  168299            1\n",
       "1  1590973  718560            0\n",
       "2  1234953  325828            1\n",
       "3  1234953  135968            0\n",
       "4  3326557  334526            1"
      ]
     },
     "execution_count": 3,
     "metadata": {},
     "output_type": "execute_result"
    }
   ],
   "source": [
    "df = pd.read_csv('clicks_dataset_msk_20230101_20230725_spec.csv', header=None, names=['query', 'object', 'is_positive'])\n",
    "df.head(5)"
   ]
  },
  {
   "cell_type": "code",
   "execution_count": 4,
   "id": "d104ae4a-6751-436a-8100-ca5bd3bb1383",
   "metadata": {
    "tags": []
   },
   "outputs": [
    {
     "name": "stdout",
     "output_type": "stream",
     "text": [
      "<class 'pandas.core.frame.DataFrame'>\n",
      "RangeIndex: 12979882 entries, 0 to 12979881\n",
      "Data columns (total 3 columns):\n",
      " #   Column       Dtype\n",
      "---  ------       -----\n",
      " 0   query        int64\n",
      " 1   object       int64\n",
      " 2   is_positive  int64\n",
      "dtypes: int64(3)\n",
      "memory usage: 297.1 MB\n"
     ]
    }
   ],
   "source": [
    "df.info()"
   ]
  },
  {
   "cell_type": "code",
   "execution_count": 5,
   "id": "ddb16f4b-8531-4aa2-8310-73b726146176",
   "metadata": {},
   "outputs": [
    {
     "data": {
      "text/plain": [
       "0"
      ]
     },
     "execution_count": 5,
     "metadata": {},
     "output_type": "execute_result"
    }
   ],
   "source": [
    "df.isna().sum().sum()"
   ]
  },
  {
   "cell_type": "code",
   "execution_count": 6,
   "id": "4ccd70b6-4c38-454c-9437-65dde0bed3fb",
   "metadata": {},
   "outputs": [
    {
     "data": {
      "text/plain": [
       "1    6489941\n",
       "0    6489941\n",
       "Name: is_positive, dtype: int64"
      ]
     },
     "execution_count": 6,
     "metadata": {},
     "output_type": "execute_result"
    }
   ],
   "source": [
    "df.is_positive.value_counts()"
   ]
  },
  {
   "cell_type": "code",
   "execution_count": 35,
   "id": "a8a20074-7bc4-43f5-a771-ac893523087a",
   "metadata": {},
   "outputs": [
    {
     "data": {
      "text/plain": [
       "(0, 4520363)"
      ]
     },
     "execution_count": 35,
     "metadata": {},
     "output_type": "execute_result"
    }
   ],
   "source": [
    "df['query'].min(), df['query'].max()"
   ]
  },
  {
   "cell_type": "code",
   "execution_count": 36,
   "id": "7ba923de-c81c-4d37-a02d-effff24dcf27",
   "metadata": {},
   "outputs": [
    {
     "data": {
      "text/plain": [
       "(0, 1154539)"
      ]
     },
     "execution_count": 36,
     "metadata": {},
     "output_type": "execute_result"
    }
   ],
   "source": [
    "df['object'].min(), df['object'].max()"
   ]
  },
  {
   "cell_type": "code",
   "execution_count": 167,
   "id": "042bd3f1-7d7b-4e74-9d5f-1a041526a656",
   "metadata": {},
   "outputs": [],
   "source": [
    "# индексы идут по порядку, это удобно"
   ]
  },
  {
   "cell_type": "code",
   "execution_count": 7,
   "id": "13f9409c-18e4-413e-bd66-1b5ff1e19e20",
   "metadata": {},
   "outputs": [
    {
     "data": {
      "text/plain": [
       "4520364"
      ]
     },
     "execution_count": 7,
     "metadata": {},
     "output_type": "execute_result"
    }
   ],
   "source": [
    "df['query'].nunique()"
   ]
  },
  {
   "cell_type": "code",
   "execution_count": 8,
   "id": "a288d0c2-a040-4fbb-b98f-87b15cb970e3",
   "metadata": {},
   "outputs": [
    {
     "data": {
      "text/plain": [
       "0.3482592522797973"
      ]
     },
     "execution_count": 8,
     "metadata": {},
     "output_type": "execute_result"
    }
   ],
   "source": [
    "df['query'].nunique() / len(df)"
   ]
  },
  {
   "cell_type": "code",
   "execution_count": 9,
   "id": "955515a5-c061-4840-8227-fe1fe52ed6d0",
   "metadata": {},
   "outputs": [
    {
     "data": {
      "text/plain": [
       "1612834    31864\n",
       "1863671    28594\n",
       "2798020    22562\n",
       "1473816    21864\n",
       "580239     19684\n",
       "Name: query, dtype: int64"
      ]
     },
     "execution_count": 9,
     "metadata": {},
     "output_type": "execute_result"
    }
   ],
   "source": [
    "df['query'].value_counts().head()"
   ]
  },
  {
   "cell_type": "code",
   "execution_count": 11,
   "id": "668a2850-0245-4f7d-ba84-8f15e8d050f0",
   "metadata": {},
   "outputs": [
    {
     "data": {
      "text/plain": [
       "1612834    31864\n",
       "1863671    28594\n",
       "2798020    22562\n",
       "1473816    21864\n",
       "580239     19684\n",
       "           ...  \n",
       "4263125        4\n",
       "2112438        4\n",
       "2343718        4\n",
       "289471         4\n",
       "1740182        4\n",
       "Name: query, Length: 200000, dtype: int64"
      ]
     },
     "execution_count": 11,
     "metadata": {},
     "output_type": "execute_result"
    }
   ],
   "source": [
    "df['query'].value_counts().head(200000)"
   ]
  },
  {
   "cell_type": "code",
   "execution_count": 12,
   "id": "b38c53c8-ffcc-4925-b98a-fc288503217b",
   "metadata": {},
   "outputs": [],
   "source": [
    "# довольно много повторяющихся запросов"
   ]
  },
  {
   "cell_type": "code",
   "execution_count": 168,
   "id": "95c7034b-21e4-4a07-a7df-3b3ddd037ad8",
   "metadata": {},
   "outputs": [],
   "source": [
    "# посмотрим объекты у самого популярного запроса"
   ]
  },
  {
   "cell_type": "code",
   "execution_count": 13,
   "id": "4873a996-2252-42b7-9d76-cdd81884036b",
   "metadata": {},
   "outputs": [
    {
     "data": {
      "text/plain": [
       "611496    3\n",
       "820952    3\n",
       "865996    3\n",
       "415642    3\n",
       "986351    3\n",
       "         ..\n",
       "911601    1\n",
       "591123    1\n",
       "980482    1\n",
       "735250    1\n",
       "745423    1\n",
       "Name: object, Length: 31376, dtype: int64"
      ]
     },
     "execution_count": 13,
     "metadata": {},
     "output_type": "execute_result"
    }
   ],
   "source": [
    "most_popular = df.loc[df['query']==1612834, :]\n",
    "vc = most_popular['object'].value_counts()\n",
    "vc"
   ]
  },
  {
   "cell_type": "markdown",
   "id": "97165652-94d5-4efc-8a5e-a7df8613f03a",
   "metadata": {},
   "source": [
    "## гипотеза 1"
   ]
  },
  {
   "cell_type": "code",
   "execution_count": 14,
   "id": "1831bc13-ed9c-4345-93ce-990828dedcab",
   "metadata": {},
   "outputs": [],
   "source": [
    "# тк у одного и того же запроса есть повторяющиеся объекты, то возникла гипотеза: \n",
    "# таргет (is_positive) может отличаться для одинаковых пар запрос-объект\n",
    "# Это может происходить по той причине, что мы рандомно выбираем отрицательный сэмпл\n",
    "# для некоторых пар пара запрос-объект будет иметь класс 0, потому что была выбрана как негативная пара у другой паре запрос-объект"
   ]
  },
  {
   "cell_type": "code",
   "execution_count": 15,
   "id": "2472745a-8baf-4209-bbf9-0724213b785d",
   "metadata": {},
   "outputs": [
    {
     "name": "stderr",
     "output_type": "stream",
     "text": [
      "C:\\Users\\basov\\AppData\\Local\\Temp\\ipykernel_16716\\4267429004.py:1: SettingWithCopyWarning: \n",
      "A value is trying to be set on a copy of a slice from a DataFrame.\n",
      "Try using .loc[row_indexer,col_indexer] = value instead\n",
      "\n",
      "See the caveats in the documentation: https://pandas.pydata.org/pandas-docs/stable/user_guide/indexing.html#returning-a-view-versus-a-copy\n",
      "  most_popular['vc'] = most_popular['object'].apply(lambda x: vc[x])\n"
     ]
    }
   ],
   "source": [
    "most_popular['vc'] = most_popular['object'].apply(lambda x: vc[x])"
   ]
  },
  {
   "cell_type": "code",
   "execution_count": 16,
   "id": "c21f7091-4039-40f2-b68f-3e0f602ece28",
   "metadata": {},
   "outputs": [
    {
     "data": {
      "text/html": [
       "<div>\n",
       "<style scoped>\n",
       "    .dataframe tbody tr th:only-of-type {\n",
       "        vertical-align: middle;\n",
       "    }\n",
       "\n",
       "    .dataframe tbody tr th {\n",
       "        vertical-align: top;\n",
       "    }\n",
       "\n",
       "    .dataframe thead th {\n",
       "        text-align: right;\n",
       "    }\n",
       "</style>\n",
       "<table border=\"1\" class=\"dataframe\">\n",
       "  <thead>\n",
       "    <tr style=\"text-align: right;\">\n",
       "      <th></th>\n",
       "      <th>query</th>\n",
       "      <th>object</th>\n",
       "      <th>is_positive</th>\n",
       "      <th>vc</th>\n",
       "    </tr>\n",
       "  </thead>\n",
       "  <tbody>\n",
       "    <tr>\n",
       "      <th>6372161</th>\n",
       "      <td>1612834</td>\n",
       "      <td>986351</td>\n",
       "      <td>0</td>\n",
       "      <td>3</td>\n",
       "    </tr>\n",
       "    <tr>\n",
       "      <th>7881289</th>\n",
       "      <td>1612834</td>\n",
       "      <td>986351</td>\n",
       "      <td>0</td>\n",
       "      <td>3</td>\n",
       "    </tr>\n",
       "    <tr>\n",
       "      <th>12468605</th>\n",
       "      <td>1612834</td>\n",
       "      <td>986351</td>\n",
       "      <td>0</td>\n",
       "      <td>3</td>\n",
       "    </tr>\n",
       "    <tr>\n",
       "      <th>6629320</th>\n",
       "      <td>1612834</td>\n",
       "      <td>865996</td>\n",
       "      <td>1</td>\n",
       "      <td>3</td>\n",
       "    </tr>\n",
       "    <tr>\n",
       "      <th>9817151</th>\n",
       "      <td>1612834</td>\n",
       "      <td>865996</td>\n",
       "      <td>0</td>\n",
       "      <td>3</td>\n",
       "    </tr>\n",
       "    <tr>\n",
       "      <th>12918937</th>\n",
       "      <td>1612834</td>\n",
       "      <td>865996</td>\n",
       "      <td>0</td>\n",
       "      <td>3</td>\n",
       "    </tr>\n",
       "    <tr>\n",
       "      <th>571878</th>\n",
       "      <td>1612834</td>\n",
       "      <td>820952</td>\n",
       "      <td>1</td>\n",
       "      <td>3</td>\n",
       "    </tr>\n",
       "    <tr>\n",
       "      <th>1120093</th>\n",
       "      <td>1612834</td>\n",
       "      <td>820952</td>\n",
       "      <td>0</td>\n",
       "      <td>3</td>\n",
       "    </tr>\n",
       "    <tr>\n",
       "      <th>12069237</th>\n",
       "      <td>1612834</td>\n",
       "      <td>820952</td>\n",
       "      <td>0</td>\n",
       "      <td>3</td>\n",
       "    </tr>\n",
       "    <tr>\n",
       "      <th>5102233</th>\n",
       "      <td>1612834</td>\n",
       "      <td>611496</td>\n",
       "      <td>0</td>\n",
       "      <td>3</td>\n",
       "    </tr>\n",
       "  </tbody>\n",
       "</table>\n",
       "</div>"
      ],
      "text/plain": [
       "            query  object  is_positive  vc\n",
       "6372161   1612834  986351            0   3\n",
       "7881289   1612834  986351            0   3\n",
       "12468605  1612834  986351            0   3\n",
       "6629320   1612834  865996            1   3\n",
       "9817151   1612834  865996            0   3\n",
       "12918937  1612834  865996            0   3\n",
       "571878    1612834  820952            1   3\n",
       "1120093   1612834  820952            0   3\n",
       "12069237  1612834  820952            0   3\n",
       "5102233   1612834  611496            0   3"
      ]
     },
     "execution_count": 16,
     "metadata": {},
     "output_type": "execute_result"
    }
   ],
   "source": [
    "most_popular.sort_values(by=['vc', 'object', 'is_positive'], ascending=False).head(10)"
   ]
  },
  {
   "cell_type": "code",
   "execution_count": 17,
   "id": "8bd4bc03-c943-47e6-9605-97c644020974",
   "metadata": {},
   "outputs": [],
   "source": [
    "# так, сразу вижу строки [6629320] и [9817151, 12918937] - одинаковые запросы, но разный таргет\n",
    "# есть и другие примеры, окей, значит гипотеза подтвердилась\n",
    "# однако, такая особенность датасета повлияла бы также на метрики в процессе обучения"
   ]
  },
  {
   "cell_type": "code",
   "execution_count": 18,
   "id": "baa1f23a-2259-4ff2-a7d6-1d2fe1e05868",
   "metadata": {},
   "outputs": [],
   "source": [
    "# но тут есть нюанс, почему на тесте могли получиться предсказания хуже\n",
    "# у повторяющихся пар запрос-объект будет всегда только 1 положительный сэмпл, а вот\n",
    "# отрицательных сэмплов может быть много. соответственно, модель будет с большей уверенностью предсказывать 0, нежели 1\n",
    "# при этом, истинно целевой класс - это 1, поскольку на этот объект кликнул пользователь,\n",
    "# а все негативные сэмплы были уже сгенерированы\n",
    "\n",
    "# таким образом, некоторые метрики могла получиться хорошими, в то время как на самом деле, модель абсолютную лажу предсказывала"
   ]
  },
  {
   "cell_type": "markdown",
   "id": "e33a4947-f3a0-4f32-8484-a1408429b8cf",
   "metadata": {},
   "source": [
    "## гипотеза 2"
   ]
  },
  {
   "cell_type": "code",
   "execution_count": 19,
   "id": "13798d89-4128-4e6b-a5d7-02919bb67e56",
   "metadata": {},
   "outputs": [],
   "source": [
    "# недостаточно данных для обучения классических моделей\n",
    "\n",
    "# пара [запрос_который_был - объект_которого_не_было] как будет обработана моделью?"
   ]
  },
  {
   "cell_type": "code",
   "execution_count": 20,
   "id": "b110433b-3387-4918-b455-fb0ae804538b",
   "metadata": {},
   "outputs": [
    {
     "name": "stdout",
     "output_type": "stream",
     "text": [
      "Размер матрицы: 4520364 x 1154540\n"
     ]
    }
   ],
   "source": [
    "print(f\"Размер матрицы: {df['query'].nunique()} x {df['object'].nunique()}\")"
   ]
  },
  {
   "cell_type": "code",
   "execution_count": 21,
   "id": "b0590708-f2aa-4a30-abe5-2cda862d4bad",
   "metadata": {},
   "outputs": [],
   "source": [
    "# по сути мы имеем матрицу запросов-объектов размера 4520364 x 1154540"
   ]
  },
  {
   "cell_type": "code",
   "execution_count": 22,
   "id": "26c4fb80-431b-418f-ac39-10ab38cbf4c4",
   "metadata": {},
   "outputs": [],
   "source": [
    "unique_pairs_count = df.groupby(['query', 'object']).size().shape[0]"
   ]
  },
  {
   "cell_type": "code",
   "execution_count": 23,
   "id": "1c11600e-6e34-4321-a925-4aa5dfca3166",
   "metadata": {},
   "outputs": [
    {
     "name": "stdout",
     "output_type": "stream",
     "text": [
      "Количетсво повторов запрос-объект: 3994\n"
     ]
    }
   ],
   "source": [
    "print(f\"Количетсво повторов запрос-объект: {len(df) - unique_pairs_count}\")"
   ]
  },
  {
   "cell_type": "code",
   "execution_count": 24,
   "id": "c6114cad-4482-47bc-b83d-c69bf102451a",
   "metadata": {},
   "outputs": [
    {
     "name": "stdout",
     "output_type": "stream",
     "text": [
      "Матрица пуста на 99.99975136933202%\n"
     ]
    }
   ],
   "source": [
    "print(f\"Матрица пуста на {100 * (1 - unique_pairs_count / (df['query'].nunique() * df['object'].nunique()))}%\")"
   ]
  },
  {
   "cell_type": "code",
   "execution_count": 25,
   "id": "a7786bb8-770e-486d-8327-9a52a6358de2",
   "metadata": {},
   "outputs": [],
   "source": [
    "# при этом она пуста на ~99.9998%\n",
    "# что это значит? это значит, что модель классик ML может выучить что-то в имеющихся данных, однако,\n",
    "# она будет ужасно работать на данных, которые она не видела (как раз те самые пропуски в матрице)"
   ]
  },
  {
   "cell_type": "markdown",
   "id": "ae5d2ab2-03d1-426e-b548-d0e556cbb1c0",
   "metadata": {},
   "source": [
    "## гипотеза 3"
   ]
  },
  {
   "cell_type": "code",
   "execution_count": 26,
   "id": "e2871fcd-cdbf-4e27-a97d-db52b0b01e8a",
   "metadata": {},
   "outputs": [],
   "source": [
    "# ложные паттерны в данных, которые нашли модели\n",
    "\n",
    "\n",
    "# по сути два этих предиктора - это не интервальные, а категориальные значения\n",
    "# некоторые алгоритмы могут совершенно неправильно интерпретировать эти значения\n",
    "\n",
    "# например, логрег: a_0 + a_1 * x_1 + a_2 * x_2 = y  -- понятно, что эта логика не имеет смысла, посколько хоть\n",
    "# у нас и численные переменные, такая взаимосвязь ошибочна.\n",
    "\n",
    "# дерево решений тоже может найти ложные закономерности: сравнивать как-то ID запросов и объектов \n",
    "# и на основе их значений выдавать какой-то результат - бессмысленно\n",
    "# да, может получиться так, что если у объекта id меньше 820952, то он всегда будет давать негативный результат\n",
    "# с точки зрения интерпретации - это ошибочная логика"
   ]
  },
  {
   "cell_type": "code",
   "execution_count": 27,
   "id": "a4d6f6fa-514b-4d5f-95a9-36b5938ab5bf",
   "metadata": {},
   "outputs": [],
   "source": [
    "from sklearn.linear_model import LogisticRegression\n",
    "from sklearn.model_selection import cross_val_score, cross_validate\n",
    "from sklearn.tree import DecisionTreeClassifier"
   ]
  },
  {
   "cell_type": "code",
   "execution_count": 28,
   "id": "82b7a83a-20ec-4047-9d44-b10ad3002a25",
   "metadata": {},
   "outputs": [],
   "source": [
    "X = df.drop(['is_positive'], axis=1)\n",
    "y = df['is_positive']"
   ]
  },
  {
   "cell_type": "code",
   "execution_count": 29,
   "id": "714658e6-9a02-42c0-869d-485660b6ca0f",
   "metadata": {},
   "outputs": [
    {
     "data": {
      "text/plain": [
       "{'fit_time': array([11.86765218, 11.66815519, 11.85349655, 12.05007744, 12.00210166]),\n",
       " 'score_time': array([2.2825954 , 2.32571125, 2.06446004, 2.22194052, 2.12541199]),\n",
       " 'estimator': [LogisticRegression(random_state=42),\n",
       "  LogisticRegression(random_state=42),\n",
       "  LogisticRegression(random_state=42),\n",
       "  LogisticRegression(random_state=42),\n",
       "  LogisticRegression(random_state=42)],\n",
       " 'test_precision': array([0.63345846, 0.63332056, 0.63282084, 0.6339642 , 0.63317006]),\n",
       " 'train_precision': array([0.63333831, 0.63332689, 0.63348454, 0.63317633, 0.63341752]),\n",
       " 'test_recall': array([0.48180146, 0.48240199, 0.48212618, 0.48346518, 0.48212541]),\n",
       " 'train_recall': array([0.48250176, 0.48243869, 0.48244408, 0.48214265, 0.48240171]),\n",
       " 'test_accuracy': array([0.60150687, 0.60155078, 0.601192  , 0.60216196, 0.60140194]),\n",
       " 'train_accuracy': array([0.60158235, 0.60156213, 0.60165809, 0.60140933, 0.60160887])}"
      ]
     },
     "execution_count": 29,
     "metadata": {},
     "output_type": "execute_result"
    }
   ],
   "source": [
    "clf = LogisticRegression(random_state=42)\n",
    "scores = cross_validate(clf, X, y, cv=5, scoring=['precision', 'recall', 'accuracy'],\n",
    "                        return_train_score=True, return_estimator=True)\n",
    "scores"
   ]
  },
  {
   "cell_type": "code",
   "execution_count": 30,
   "id": "3c81e5af-fc8a-4ef1-a458-1ba255b6db45",
   "metadata": {},
   "outputs": [
    {
     "name": "stdout",
     "output_type": "stream",
     "text": [
      "bias: 3.875227816661139e-13\n",
      "['query' 'object'] weights: [ 1.80261141e-07 -1.04965744e-06]\n"
     ]
    }
   ],
   "source": [
    "print(f\"bias: {scores['estimator'][0].intercept_[0]}\")\n",
    "print(f\"{scores['estimator'][0].feature_names_in_} weights: {scores['estimator'][0].coef_[0]}\")"
   ]
  },
  {
   "cell_type": "code",
   "execution_count": 31,
   "id": "6d1fd690-8d45-43ab-b99c-70d50636757c",
   "metadata": {},
   "outputs": [],
   "source": [
    "# видим, что получилось какое-то уравнение: y_prob = sigmoid(query*1.80261141e-07 - object*1.04965744e-06 + 3.875227816661139e-13)\n",
    "# это всего лишь линейное уравнение, поэтому его accuracy около 60, и это на кросс-валидации\n",
    "# на реальных данных все предсказания такой модели будут практически случайные, поскольку она нашла зависимость там, где ее нет"
   ]
  },
  {
   "cell_type": "markdown",
   "id": "ee31668f-fb0e-40f7-9b70-e6b47e68fe5a",
   "metadata": {},
   "source": [
    "## гипотеза 4"
   ]
  },
  {
   "cell_type": "code",
   "execution_count": 32,
   "id": "d0131e0a-62a0-4237-a44f-f3c3c751abfa",
   "metadata": {},
   "outputs": [],
   "source": [
    "# сдвиг в распределении данных\n",
    "\n",
    "# отсутствие временной метки в данных\n",
    "# запросы могли меняться со временем, какие-то объекты могли становиться популярнее\n",
    "# тренды, которые могли выучить модели на обучающих данных, уже будут неактуальны на этапе применения модели\n",
    "\n",
    "# данные могли быть собраны из определенных источников, а тестироваться в других условиях\n",
    "\n",
    "# поведение пользователей и контекст, в котором он взаимодействует с системой, могли поменться со временем"
   ]
  },
  {
   "cell_type": "markdown",
   "id": "befb3491-ed1a-4271-9952-06a11cb793c3",
   "metadata": {},
   "source": [
    "## гипотеза 5"
   ]
  },
  {
   "cell_type": "code",
   "execution_count": 39,
   "id": "8cd629f7-6cd4-4a0f-9a6d-99123fd5da14",
   "metadata": {},
   "outputs": [],
   "source": [
    "# отсутствие в целом каких-то контекстных данных, по типу местоположения, демографические данные и др.\n",
    "\n",
    "# если использовались алгоритмы ALS или другие, рассматривающие только взаимодействие запроса и объекта,\n",
    "# то такие алгоритмы игнорируют важные параметры, которые находятся за пределами простой матрицы взаимодействий"
   ]
  },
  {
   "cell_type": "code",
   "execution_count": 169,
   "id": "57bab8d6-8ac6-42ed-8a3a-aa61c0fce9fe",
   "metadata": {},
   "outputs": [],
   "source": [
    "# попробуем обучить ALS на этих данных, кросс-валидацией\n",
    "\n",
    "\n",
    "# ATTENTION: код не запускал, потому что не смог бы ничего сказать, получив какие-то метрики у ALS (и он очень долго выполнялся)"
   ]
  },
  {
   "cell_type": "code",
   "execution_count": null,
   "id": "054c6a34-9100-4c6f-8cd5-dd0b0f0d181b",
   "metadata": {},
   "outputs": [],
   "source": [
    "from scipy.sparse import csr_matrix\n",
    "from implicit.als import AlternatingLeastSquares\n",
    "from sklearn.model_selection import KFold\n",
    "from sklearn.metrics import precision_score, recall_score, accuracy_score"
   ]
  },
  {
   "cell_type": "code",
   "execution_count": null,
   "id": "1f35ac66-2ea5-4d75-908a-a10731ea8c5a",
   "metadata": {},
   "outputs": [],
   "source": [
    "rows = df['query'].map({query: i for i, query in enumerate(df['query'].unique())})\n",
    "cols = df['object'].map({obj: i for i, obj in enumerate(df['object'].unique())})\n",
    "values = df['is_positive']\n",
    "matrix = csr_matrix((values, (rows, cols)), shape=(df['query'].nunique(), df['object'].nunique()))"
   ]
  },
  {
   "cell_type": "code",
   "execution_count": null,
   "id": "3e24ea43-949a-407d-af5d-ab1febd282cf",
   "metadata": {
    "tags": []
   },
   "outputs": [],
   "source": [
    "threshold = 0.5\n",
    "\n",
    "kf = KFold(n_splits=5)\n",
    "precision_values, recall_values, accuracy_values = [], [], []\n",
    "\n",
    "for train_index, test_index in kf.split(matrix):\n",
    "    train = matrix[train_index]\n",
    "    test = matrix[test_index]\n",
    "\n",
    "    model = AlternatingLeastSquares(factors=50)\n",
    "    model.fit(train)\n",
    "\n",
    "    # рейтинги для тестового набора\n",
    "    predicted = model.predict(test_index, np.arange(matrix.shape[1]))\n",
    "    binarized_predicted = [1 if pred >= threshold else 0 for pred in predicted]\n",
    "    \n",
    "    # фактические метки\n",
    "    actual = test[test.nonzero()].toarray().flatten()\n",
    "\n",
    "    precision_values.append(precision_score(actual, binarized_predicted))\n",
    "    recall_values.append(recall_score(actual, binarized_predicted))\n",
    "    accuracy_values.append(accuracy_score(actual, binarized_predicted))\n",
    "\n",
    "print(f\"Средняя точность: {np.mean(precision_values)}\")\n",
    "print(f\"Средняя полнота: {np.mean(recall_values)}\")\n",
    "print(f\"Средняя точность: {np.mean(accuracy_values)}\")"
   ]
  },
  {
   "cell_type": "markdown",
   "id": "545db49c-f284-431f-ac19-4f7532803148",
   "metadata": {},
   "source": [
    "## гипотеза 6"
   ]
  },
  {
   "cell_type": "code",
   "execution_count": 41,
   "id": "8e651188-4055-4c6a-b3e3-7f1718552de3",
   "metadata": {},
   "outputs": [],
   "source": [
    "# кросс-валидация была настроена таким образом, что валидационные поднаборы данных слишком похожи на тренировочные данные,\n",
    "# это могло привести к чрезмерной уверенности в эффективности модели"
   ]
  },
  {
   "cell_type": "markdown",
   "id": "1a220a08-5574-44e6-b860-97f4883ce377",
   "metadata": {},
   "source": [
    "## гипотеза 7"
   ]
  },
  {
   "cell_type": "code",
   "execution_count": 42,
   "id": "961b387e-6a92-432e-b7ba-1e6300edca6c",
   "metadata": {},
   "outputs": [],
   "source": [
    "# негативные примеры на самом деле не негативные\n",
    "\n",
    "# могло получиться так, что примеры находятся в соседних рубриках, либо как-то по-другому связаны\n",
    "# из-за этого, ставить метку `0` в ячейку взаимодействия запроса и такого псевдонегативного объекта - ошибка"
   ]
  },
  {
   "cell_type": "markdown",
   "id": "9bc2a11e-f4dd-4322-8c87-19cb1e93ebaa",
   "metadata": {},
   "source": [
    "## гипотеза 8"
   ]
  },
  {
   "cell_type": "code",
   "execution_count": 81,
   "id": "325851dc-3ad1-49d9-8783-987ef8d88043",
   "metadata": {},
   "outputs": [],
   "source": [
    "only_positive = df.loc[df['is_positive'] == 1, :]\n",
    "only_negative = df.loc[df['is_positive'] == 0, :]"
   ]
  },
  {
   "cell_type": "code",
   "execution_count": 82,
   "id": "9a81af6f-4aac-4077-aa82-c97132616892",
   "metadata": {},
   "outputs": [],
   "source": [
    "pos_vc = only_positive['object'].value_counts()\n",
    "sorted_pos_vc = pos_vc.sort_values(ascending=False).reset_index()"
   ]
  },
  {
   "cell_type": "code",
   "execution_count": 83,
   "id": "c3b42349-da33-49fc-ace0-57615f1f99dc",
   "metadata": {},
   "outputs": [
    {
     "data": {
      "text/html": [
       "<div>\n",
       "<style scoped>\n",
       "    .dataframe tbody tr th:only-of-type {\n",
       "        vertical-align: middle;\n",
       "    }\n",
       "\n",
       "    .dataframe tbody tr th {\n",
       "        vertical-align: top;\n",
       "    }\n",
       "\n",
       "    .dataframe thead th {\n",
       "        text-align: right;\n",
       "    }\n",
       "</style>\n",
       "<table border=\"1\" class=\"dataframe\">\n",
       "  <thead>\n",
       "    <tr style=\"text-align: right;\">\n",
       "      <th></th>\n",
       "      <th>index</th>\n",
       "      <th>object</th>\n",
       "    </tr>\n",
       "  </thead>\n",
       "  <tbody>\n",
       "    <tr>\n",
       "      <th>0</th>\n",
       "      <td>135367</td>\n",
       "      <td>2838</td>\n",
       "    </tr>\n",
       "    <tr>\n",
       "      <th>1</th>\n",
       "      <td>161420</td>\n",
       "      <td>2698</td>\n",
       "    </tr>\n",
       "    <tr>\n",
       "      <th>2</th>\n",
       "      <td>128803</td>\n",
       "      <td>1994</td>\n",
       "    </tr>\n",
       "    <tr>\n",
       "      <th>3</th>\n",
       "      <td>91490</td>\n",
       "      <td>1947</td>\n",
       "    </tr>\n",
       "    <tr>\n",
       "      <th>4</th>\n",
       "      <td>356746</td>\n",
       "      <td>1926</td>\n",
       "    </tr>\n",
       "  </tbody>\n",
       "</table>\n",
       "</div>"
      ],
      "text/plain": [
       "    index  object\n",
       "0  135367    2838\n",
       "1  161420    2698\n",
       "2  128803    1994\n",
       "3   91490    1947\n",
       "4  356746    1926"
      ]
     },
     "execution_count": 83,
     "metadata": {},
     "output_type": "execute_result"
    }
   ],
   "source": [
    "sorted_pos_vc.head()"
   ]
  },
  {
   "cell_type": "code",
   "execution_count": 84,
   "id": "3f06250f-9377-496c-85eb-ebcc9e640cf7",
   "metadata": {},
   "outputs": [],
   "source": [
    "# есть объекты, которые пользуются большим спросом"
   ]
  },
  {
   "cell_type": "code",
   "execution_count": 85,
   "id": "9be2fd8e-0575-430f-a996-8dc3d08997c3",
   "metadata": {},
   "outputs": [],
   "source": [
    "sorted_pos_vc = pos_vc.sort_values(ascending=True).reset_index()"
   ]
  },
  {
   "cell_type": "code",
   "execution_count": 86,
   "id": "3828038d-ce1e-4ad1-b4e3-c9aa637b4900",
   "metadata": {},
   "outputs": [
    {
     "data": {
      "image/png": "[encoded data removed]",
      "text/plain": [
       "<Figure size 640x480 with 1 Axes>"
      ]
     },
     "metadata": {},
     "output_type": "display_data"
    }
   ],
   "source": [
    "plt.plot(np.cumsum(sorted_pos_vc['object']))\n",
    "plt.axhline(y=1e6, color='r', linestyle='--')\n",
    "plt.title('Кумулятивная сумма value_counts объектов')\n",
    "plt.xlabel('Номер строки')\n",
    "plt.ylabel('Кумулятивная сумма')\n",
    "plt.show()"
   ]
  },
  {
   "cell_type": "code",
   "execution_count": 87,
   "id": "b4b2f4c6-f9ba-46ba-a03f-3a6e4782530a",
   "metadata": {},
   "outputs": [],
   "source": [
    "# большая часть объектов все же встречается по одному разу,\n",
    "# однако существенная часть объектов встречается по большому количеству раз\n",
    "\n",
    "# если бы все объекты встречались по одному разу, то красная линия пересекла бы синию в точке (1e6, 1e6)"
   ]
  },
  {
   "cell_type": "code",
   "execution_count": 90,
   "id": "0f441473-d538-44fe-a8ba-21bb4d4f3adb",
   "metadata": {},
   "outputs": [],
   "source": [
    "# соответственно, модель могла переобучиться под более популярные объекты"
   ]
  },
  {
   "cell_type": "code",
   "execution_count": 91,
   "id": "802a241c-0203-468a-9ba9-60c58d2f2770",
   "metadata": {},
   "outputs": [
    {
     "data": {
      "text/html": [
       "<div>\n",
       "<style scoped>\n",
       "    .dataframe tbody tr th:only-of-type {\n",
       "        vertical-align: middle;\n",
       "    }\n",
       "\n",
       "    .dataframe tbody tr th {\n",
       "        vertical-align: top;\n",
       "    }\n",
       "\n",
       "    .dataframe thead th {\n",
       "        text-align: right;\n",
       "    }\n",
       "</style>\n",
       "<table border=\"1\" class=\"dataframe\">\n",
       "  <thead>\n",
       "    <tr style=\"text-align: right;\">\n",
       "      <th></th>\n",
       "      <th>index</th>\n",
       "      <th>object</th>\n",
       "    </tr>\n",
       "  </thead>\n",
       "  <tbody>\n",
       "    <tr>\n",
       "      <th>0</th>\n",
       "      <td>135367</td>\n",
       "      <td>2838</td>\n",
       "    </tr>\n",
       "    <tr>\n",
       "      <th>1</th>\n",
       "      <td>161420</td>\n",
       "      <td>2698</td>\n",
       "    </tr>\n",
       "    <tr>\n",
       "      <th>2</th>\n",
       "      <td>128803</td>\n",
       "      <td>1994</td>\n",
       "    </tr>\n",
       "    <tr>\n",
       "      <th>3</th>\n",
       "      <td>91490</td>\n",
       "      <td>1947</td>\n",
       "    </tr>\n",
       "    <tr>\n",
       "      <th>4</th>\n",
       "      <td>356746</td>\n",
       "      <td>1926</td>\n",
       "    </tr>\n",
       "  </tbody>\n",
       "</table>\n",
       "</div>"
      ],
      "text/plain": [
       "    index  object\n",
       "0  135367    2838\n",
       "1  161420    2698\n",
       "2  128803    1994\n",
       "3   91490    1947\n",
       "4  356746    1926"
      ]
     },
     "execution_count": 91,
     "metadata": {},
     "output_type": "execute_result"
    }
   ],
   "source": [
    "pos_vc.sort_values(ascending=False).reset_index().head(5)"
   ]
  },
  {
   "cell_type": "code",
   "execution_count": 92,
   "id": "b69b2ce8-32ad-4c6d-bc86-d9b9eb2b3dd8",
   "metadata": {},
   "outputs": [],
   "source": [
    "# к тому же, у первых двух объектов значения сильно выше, чем у всех остальных\n",
    "# это может быть из-за различного процесса сбора данных, либо данные были собраны в периоды акции на эти два объекта\n",
    "# либо что-то подобное"
   ]
  },
  {
   "cell_type": "code",
   "execution_count": 93,
   "id": "46f8b873-619b-4550-8806-700f51696b68",
   "metadata": {},
   "outputs": [
    {
     "data": {
      "text/html": [
       "<div>\n",
       "<style scoped>\n",
       "    .dataframe tbody tr th:only-of-type {\n",
       "        vertical-align: middle;\n",
       "    }\n",
       "\n",
       "    .dataframe tbody tr th {\n",
       "        vertical-align: top;\n",
       "    }\n",
       "\n",
       "    .dataframe thead th {\n",
       "        text-align: right;\n",
       "    }\n",
       "</style>\n",
       "<table border=\"1\" class=\"dataframe\">\n",
       "  <thead>\n",
       "    <tr style=\"text-align: right;\">\n",
       "      <th></th>\n",
       "      <th>index</th>\n",
       "      <th>object</th>\n",
       "    </tr>\n",
       "  </thead>\n",
       "  <tbody>\n",
       "    <tr>\n",
       "      <th>0</th>\n",
       "      <td>666165</td>\n",
       "      <td>35</td>\n",
       "    </tr>\n",
       "    <tr>\n",
       "      <th>1</th>\n",
       "      <td>830560</td>\n",
       "      <td>34</td>\n",
       "    </tr>\n",
       "    <tr>\n",
       "      <th>2</th>\n",
       "      <td>428775</td>\n",
       "      <td>34</td>\n",
       "    </tr>\n",
       "    <tr>\n",
       "      <th>3</th>\n",
       "      <td>880286</td>\n",
       "      <td>33</td>\n",
       "    </tr>\n",
       "    <tr>\n",
       "      <th>4</th>\n",
       "      <td>700568</td>\n",
       "      <td>33</td>\n",
       "    </tr>\n",
       "  </tbody>\n",
       "</table>\n",
       "</div>"
      ],
      "text/plain": [
       "    index  object\n",
       "0  666165      35\n",
       "1  830560      34\n",
       "2  428775      34\n",
       "3  880286      33\n",
       "4  700568      33"
      ]
     },
     "execution_count": 93,
     "metadata": {},
     "output_type": "execute_result"
    }
   ],
   "source": [
    "neg_vc = only_negative['object'].value_counts()\n",
    "sorted_neg_vc = neg_vc.sort_values(ascending=False).reset_index()\n",
    "sorted_neg_vc.head()"
   ]
  },
  {
   "cell_type": "code",
   "execution_count": 150,
   "id": "700e82c0-69f9-4262-bcc5-b00de093f30a",
   "metadata": {},
   "outputs": [],
   "source": [
    "# негативные объекты тоже повторяются, но гораздо менее часто, чем положительные объекты"
   ]
  },
  {
   "cell_type": "code",
   "execution_count": 165,
   "id": "33bd531f-a319-46b1-9ddb-71293d8c2d98",
   "metadata": {},
   "outputs": [
    {
     "data": {
      "image/png": "[encoded data removed]",
      "text/plain": [
       "<Figure size 640x480 with 1 Axes>"
      ]
     },
     "metadata": {},
     "output_type": "display_data"
    }
   ],
   "source": [
    "sorted_neg_vc['object'].hist(bins=50)\n",
    "plt.title('Распределение частот негативных объектов')\n",
    "plt.xlabel('Количество повторений')\n",
    "plt.ylabel('Количество объектов')\n",
    "plt.show()"
   ]
  },
  {
   "cell_type": "code",
   "execution_count": 163,
   "id": "a79027ac-241e-4e1e-840f-31b921929b13",
   "metadata": {},
   "outputs": [],
   "source": [
    "# распределение частот негативных примерно нормальное, это может значит, что негативные сэмплы в самом деле выбирались случайно"
   ]
  },
  {
   "cell_type": "markdown",
   "id": "67fc111a-c1a8-47cb-bb74-b24b01f7a5ef",
   "metadata": {},
   "source": [
    "## гипотеза 9"
   ]
  },
  {
   "cell_type": "code",
   "execution_count": 107,
   "id": "1fd312b7-e1a9-4d45-a767-92cde2859efb",
   "metadata": {},
   "outputs": [],
   "source": [
    "# теперь проверим аналогично запросы"
   ]
  },
  {
   "cell_type": "code",
   "execution_count": 106,
   "id": "66ef4e64-56a0-4411-8212-0102ae480444",
   "metadata": {},
   "outputs": [
    {
     "data": {
      "text/html": [
       "<div>\n",
       "<style scoped>\n",
       "    .dataframe tbody tr th:only-of-type {\n",
       "        vertical-align: middle;\n",
       "    }\n",
       "\n",
       "    .dataframe tbody tr th {\n",
       "        vertical-align: top;\n",
       "    }\n",
       "\n",
       "    .dataframe thead th {\n",
       "        text-align: right;\n",
       "    }\n",
       "</style>\n",
       "<table border=\"1\" class=\"dataframe\">\n",
       "  <thead>\n",
       "    <tr style=\"text-align: right;\">\n",
       "      <th></th>\n",
       "      <th>index</th>\n",
       "      <th>query</th>\n",
       "    </tr>\n",
       "  </thead>\n",
       "  <tbody>\n",
       "    <tr>\n",
       "      <th>0</th>\n",
       "      <td>1612834</td>\n",
       "      <td>15932</td>\n",
       "    </tr>\n",
       "    <tr>\n",
       "      <th>1</th>\n",
       "      <td>1863671</td>\n",
       "      <td>14297</td>\n",
       "    </tr>\n",
       "    <tr>\n",
       "      <th>2</th>\n",
       "      <td>2798020</td>\n",
       "      <td>11281</td>\n",
       "    </tr>\n",
       "    <tr>\n",
       "      <th>3</th>\n",
       "      <td>1473816</td>\n",
       "      <td>10932</td>\n",
       "    </tr>\n",
       "    <tr>\n",
       "      <th>4</th>\n",
       "      <td>580239</td>\n",
       "      <td>9842</td>\n",
       "    </tr>\n",
       "  </tbody>\n",
       "</table>\n",
       "</div>"
      ],
      "text/plain": [
       "     index  query\n",
       "0  1612834  15932\n",
       "1  1863671  14297\n",
       "2  2798020  11281\n",
       "3  1473816  10932\n",
       "4   580239   9842"
      ]
     },
     "execution_count": 106,
     "metadata": {},
     "output_type": "execute_result"
    }
   ],
   "source": [
    "pos_vc = only_positive['query'].value_counts()\n",
    "sorted_pos_vc = pos_vc.sort_values(ascending=False).reset_index()\n",
    "sorted_pos_vc.head()"
   ]
  },
  {
   "cell_type": "code",
   "execution_count": 112,
   "id": "0edf1d89-307e-4cd4-b7dc-1db03576a78d",
   "metadata": {},
   "outputs": [
    {
     "data": {
      "image/png": "[encoded data removed]",
      "text/plain": [
       "<Figure size 640x480 with 1 Axes>"
      ]
     },
     "metadata": {},
     "output_type": "display_data"
    }
   ],
   "source": [
    "sorted_pos_vc = pos_vc.sort_values(ascending=True).reset_index()\n",
    "plt.plot(np.cumsum(sorted_pos_vc['query']))\n",
    "plt.axhline(y=1e6, color='r', linestyle='--', alpha=0.3)\n",
    "plt.axvline(x=1e6, color='r', linestyle='--', alpha=0.3)\n",
    "plt.axhline(y=2e6, color='r', linestyle='--', alpha=0.3)\n",
    "plt.axvline(x=2e6, color='r', linestyle='--', alpha=0.3)\n",
    "plt.axhline(y=3e6, color='r', linestyle='--', alpha=0.3)\n",
    "plt.axvline(x=3e6, color='r', linestyle='--', alpha=0.3)\n",
    "plt.axhline(y=4e6, color='r', linestyle='--', alpha=0.3)\n",
    "plt.axvline(x=4e6, color='r', linestyle='--', alpha=0.3)\n",
    "plt.axhline(y=5e6, color='r', linestyle='--', alpha=0.3)\n",
    "plt.axvline(x=5e6, color='r', linestyle='--', alpha=0.3)\n",
    "plt.title('Кумулятивная сумма value_counts запросов')\n",
    "plt.xlabel('Номер строки')\n",
    "plt.ylabel('Кумулятивная сумма')\n",
    "plt.show()"
   ]
  },
  {
   "cell_type": "code",
   "execution_count": 141,
   "id": "62713366-e8b2-43cd-9999-525ecefa6915",
   "metadata": {},
   "outputs": [],
   "source": [
    "# судя по графику, ситуация такая, что большинство запросов встречаются по одному разу (~4млн), но есть не так много,\n",
    "# которые встречаются очень много раз"
   ]
  },
  {
   "cell_type": "code",
   "execution_count": 137,
   "id": "e2cbef04-5980-4377-8ebb-331e3e7124ce",
   "metadata": {},
   "outputs": [
    {
     "data": {
      "image/png": "[encoded data removed]",
      "text/plain": [
       "<Figure size 640x480 with 1 Axes>"
      ]
     },
     "metadata": {},
     "output_type": "display_data"
    }
   ],
   "source": [
    "pos_vc.sort_values(ascending=False).reset_index().head(1000)['query'].reset_index(drop=True).plot()\n",
    "plt.axhline(y=1, color='r', linestyle='--', alpha=0.3)\n",
    "plt.title('value_counts запросов')\n",
    "plt.xlabel('Порядок запросов от наиболее частовстречающихся к наименее')\n",
    "plt.ylabel('Количество повторений запроса')\n",
    "plt.show()"
   ]
  },
  {
   "cell_type": "code",
   "execution_count": 145,
   "id": "d2f585db-e1eb-4bd3-9494-2e579c5f94a5",
   "metadata": {},
   "outputs": [],
   "source": [
    "# первые ~100-150 запросов по популярности сильно превосходят остальные, что может не отражаться на реальных данных\n",
    "# для этих запросов есть много данных, и для них модель могла отрабатывать хорошо\n",
    "# при этом метрики тоже могли быть лучше, чем на самом деле, поскольку модель будет верно предсказывать для популярных запросов\n",
    "\n",
    "# также, популярность именно этих запросов могла быть обеспечена внешними условиями (время, сезон, погода, чрезвычайная ситуация)\n",
    "# соответственно, на момент применения модели, усолвия могли быть другими и эти запросы перестали быть самыми популярными\n",
    "# и тот скор, который модель получила во время валидации фактически обнулится, потому что в существенной степени он был обеспечен\n",
    "# популярными запросами"
   ]
  },
  {
   "cell_type": "code",
   "execution_count": null,
   "id": "2d2aa49d-d738-4b5d-8757-52b2c87a7f16",
   "metadata": {},
   "outputs": [],
   "source": []
  }
 ],
 "metadata": {
  "kernelspec": {
   "display_name": "Python 3 (ipykernel)",
   "language": "python",
   "name": "python3"
  },
  "language_info": {
   "codemirror_mode": {
    "name": "ipython",
    "version": 3
   },
   "file_extension": ".py",
   "mimetype": "text/x-python",
   "name": "python",
   "nbconvert_exporter": "python",
   "pygments_lexer": "ipython3",
   "version": "3.9.13"
  }
 },
 "nbformat": 4,
 "nbformat_minor": 5
}
